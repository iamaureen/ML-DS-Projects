{
 "cells": [
  {
   "cell_type": "code",
   "execution_count": null,
   "metadata": {},
   "outputs": [],
   "source": [
    "class Solution(object):\n",
    "    def removeDuplicates(self, nums):\n",
    "        \"\"\"\n",
    "        :type nums: List[int]\n",
    "        :rtype: int\n",
    "        \"\"\"\n",
    "        \n",
    "        #approach 1 - using another list \n",
    "        \n",
    "        new_list = []\n",
    "        for i in nums:\n",
    "            if i not in new_list:\n",
    "                new_list.append(i)\n",
    "        \n",
    "        #since in-place, replace the first elements in num using new_list\n",
    "        for i in range(len(new_list)):\n",
    "            nums[i]=new_list[i]\n",
    "       \n",
    "        return len(new_list)\n",
    "    \n",
    "        #time complexity - o(n) \n",
    "        #space complexity - o(n)\n",
    "          "
   ]
  },
  {
   "cell_type": "code",
   "execution_count": null,
   "metadata": {},
   "outputs": [],
   "source": [
    "class Solution(object):\n",
    "    def removeDuplicates(self, nums):\n",
    "        \"\"\"\n",
    "        :type nums: List[int]\n",
    "        :rtype: int\n",
    "        \"\"\"\n",
    "        #approach 2 - two pointer approach - improves space complexity\n",
    "        \n",
    "        if len(nums) == 0:\n",
    "            return 0\n",
    "        \n",
    "        i = 0\n",
    "        for j in range(1,len(nums)):\n",
    "            if nums[j] != nums[i]:\n",
    "                i += 1\n",
    "                nums[i] = nums[j]\n",
    "            \n",
    "        return i+1\n",
    "    \n",
    "        #time complexity - o(n) \n",
    "        #space complexity - o(1)"
   ]
  }
 ],
 "metadata": {
  "kernelspec": {
   "display_name": "Python 3",
   "language": "python",
   "name": "python3"
  },
  "language_info": {
   "codemirror_mode": {
    "name": "ipython",
    "version": 3
   },
   "file_extension": ".py",
   "mimetype": "text/x-python",
   "name": "python",
   "nbconvert_exporter": "python",
   "pygments_lexer": "ipython3",
   "version": "3.7.4"
  }
 },
 "nbformat": 4,
 "nbformat_minor": 2
}
