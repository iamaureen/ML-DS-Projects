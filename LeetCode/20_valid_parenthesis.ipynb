{
 "cells": [
  {
   "cell_type": "code",
   "execution_count": null,
   "metadata": {},
   "outputs": [],
   "source": [
    "class Solution(object):\n",
    "    def isValid(self, s):\n",
    "        \"\"\"\n",
    "        :type s: str\n",
    "        :rtype: bool\n",
    "        \"\"\"\n",
    "        #the stack to keep track of the opening brackets\n",
    "        stack = []\n",
    "        \n",
    "        #hashmap for keeping track of mappings\n",
    "        mapping = {\")\":\"(\", \"}\":\"{\",\"]\":\"[\"}\n",
    "        \n",
    "        for char in s:\n",
    "            \n",
    "            #if the char is an ending bracket\n",
    "            if char in mapping: \n",
    "                \n",
    "                #if stack is not empty\n",
    "                if stack:\n",
    "\n",
    "                    top_elem = stack.pop()\n",
    "                    if mapping[char] != top_elem:\n",
    "                        return False\n",
    "                \n",
    "                else:\n",
    "                    #the char is an ending bracket and the stack is empty\n",
    "                    return False\n",
    "            else:\n",
    "                #the char is an opening bracket\n",
    "                stack.append(char)\n",
    "        \n",
    "        #if the stack is empty, valid expression, else stack non empty for expressions like ((()\n",
    "        return len(stack) == 0"
   ]
  }
 ],
 "metadata": {
  "kernelspec": {
   "display_name": "Python 3",
   "language": "python",
   "name": "python3"
  },
  "language_info": {
   "codemirror_mode": {
    "name": "ipython",
    "version": 3
   },
   "file_extension": ".py",
   "mimetype": "text/x-python",
   "name": "python",
   "nbconvert_exporter": "python",
   "pygments_lexer": "ipython3",
   "version": "3.7.4"
  }
 },
 "nbformat": 4,
 "nbformat_minor": 2
}
