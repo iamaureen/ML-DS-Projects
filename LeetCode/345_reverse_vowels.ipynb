{
 "cells": [
  {
   "cell_type": "code",
   "execution_count": null,
   "metadata": {},
   "outputs": [],
   "source": [
    "class Solution(object):\n",
    "    def reverseVowels(self, s):\n",
    "        \"\"\"\n",
    "        :type s: str\n",
    "        :rtype: str\n",
    "        \"\"\"\n",
    "        \n",
    "        start = 0\n",
    "        end = len(s)-1\n",
    "        \n",
    "        slist = list(s)\n",
    "        \n",
    "        while start < end:\n",
    "            if slist[start] in \"aeiouAEIOU\":\n",
    "                if slist[end] in \"aeiouAEIOU\":\n",
    "                    slist[start], slist[end] = slist[end], slist[start]\n",
    "                    start += 1\n",
    "                    end -= 1\n",
    "                else:\n",
    "                    end -=1\n",
    "            else:\n",
    "                start += 1\n",
    "        \n",
    "        return \"\".join(slist)"
   ]
  }
 ],
 "metadata": {
  "kernelspec": {
   "display_name": "Python 3",
   "language": "python",
   "name": "python3"
  },
  "language_info": {
   "codemirror_mode": {
    "name": "ipython",
    "version": 3
   },
   "file_extension": ".py",
   "mimetype": "text/x-python",
   "name": "python",
   "nbconvert_exporter": "python",
   "pygments_lexer": "ipython3",
   "version": "3.7.4"
  }
 },
 "nbformat": 4,
 "nbformat_minor": 2
}
