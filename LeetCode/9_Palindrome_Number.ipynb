{
 "cells": [
  {
   "cell_type": "code",
   "execution_count": null,
   "metadata": {},
   "outputs": [],
   "source": [
    "#approach 1: converting the number x to a string\n",
    "class Solution(object):\n",
    "    def isPalindrome(self, x):\n",
    "        \"\"\"\n",
    "        :type x: int\n",
    "        :rtype: bool\n",
    "        \"\"\"\n",
    "        \n",
    "        strNum = str(x)\n",
    "        \n",
    "        #reverse using slice notation\n",
    "        #slice notation takes the form [start:stop:step]\n",
    "        #omitting start, stop since we want the whole string\n",
    "        #-1 means repeatedly step from right to left by 1 character\n",
    "        \n",
    "        #rev_strNum = strNum[::-1]\n",
    "        \n",
    "        #another way \n",
    "        rev_strNum = ''.join(reversed(strNum))\n",
    "        \n",
    "        if strNum == rev_strNum:\n",
    "            return True\n",
    "        else: \n",
    "            return False\n",
    "        "
   ]
  },
  {
   "cell_type": "code",
   "execution_count": null,
   "metadata": {},
   "outputs": [],
   "source": [
    "#approach 2: without converting to a string\n",
    "class Solution(object):\n",
    "    def isPalindrome(self, x):\n",
    "        \"\"\"\n",
    "        :type x: int\n",
    "        :rtype: bool\n",
    "        \"\"\"\n",
    "        \n",
    "        original = x\n",
    "        reverse = 0\n",
    "        \n",
    "        while x > 0:\n",
    "            res = x%10\n",
    "            reverse = reverse * 10 + res\n",
    "            x = x//10\n",
    "            \n",
    "        if original == reverse:\n",
    "            return True\n",
    "        else:\n",
    "            return False"
   ]
  }
 ],
 "metadata": {
  "kernelspec": {
   "display_name": "Python 3",
   "language": "python",
   "name": "python3"
  },
  "language_info": {
   "codemirror_mode": {
    "name": "ipython",
    "version": 3
   },
   "file_extension": ".py",
   "mimetype": "text/x-python",
   "name": "python",
   "nbconvert_exporter": "python",
   "pygments_lexer": "ipython3",
   "version": "3.7.4"
  }
 },
 "nbformat": 4,
 "nbformat_minor": 2
}
