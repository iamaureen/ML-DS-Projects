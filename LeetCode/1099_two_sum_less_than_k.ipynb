{
 "cells": [
  {
   "cell_type": "code",
   "execution_count": null,
   "metadata": {},
   "outputs": [],
   "source": [
    "class Solution(object):\n",
    "    def twoSumLessThanK(self, nums, k):\n",
    "        \"\"\"\n",
    "        :type nums: List[int]\n",
    "        :type k: int\n",
    "        :rtype: int\n",
    "        \"\"\"\n",
    "        \n",
    "        # two pointers approach: the following approach would work if the arrays are sorted \n",
    "        nums.sort()\n",
    "        \n",
    "        answer = -1\n",
    "        left = 0\n",
    "        right = len(nums)-1\n",
    "        \n",
    "        while left < right:\n",
    "            sum = nums[left] + nums[right]\n",
    "            \n",
    "            if(sum < k):\n",
    "                answer = max(sum, answer)\n",
    "                left += 1\n",
    "            else:\n",
    "                right -=1\n",
    "        \n",
    "        return answer\n",
    "    \n",
    "    #time complexity: o(nlogn) to sort the array; two pointers approach itself is o(n), so the time would be linear if the input is sorted\n",
    "    #space complexity: o(nlogn) to o(n) deppending on the implementation of the sorting algorithm        \n",
    "    #The Two Pointers approach is a good choice when the number of elements is large, and the range of \n",
    "    #possible values is not constrained. Also, if the input array is already sorted, this approach provides a \n",
    "    #linear time complexity and does not require additional memory.\n",
    "        \n",
    "        "
   ]
  }
 ],
 "metadata": {
  "kernelspec": {
   "display_name": "Python 3",
   "language": "python",
   "name": "python3"
  },
  "language_info": {
   "codemirror_mode": {
    "name": "ipython",
    "version": 3
   },
   "file_extension": ".py",
   "mimetype": "text/x-python",
   "name": "python",
   "nbconvert_exporter": "python",
   "pygments_lexer": "ipython3",
   "version": "3.7.4"
  }
 },
 "nbformat": 4,
 "nbformat_minor": 2
}
