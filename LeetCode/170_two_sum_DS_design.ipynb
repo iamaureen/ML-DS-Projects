{
 "cells": [
  {
   "cell_type": "code",
   "execution_count": null,
   "metadata": {},
   "outputs": [],
   "source": [
    "class TwoSum(object):\n",
    "\n",
    "    def __init__(self):\n",
    "        self.alist = {}\n",
    "        \n",
    "\n",
    "    def add(self, number):\n",
    "        \"\"\"\n",
    "        :type number: int\n",
    "        :rtype: None\n",
    "        \"\"\"\n",
    "        #calculate the frequency of each elements\n",
    "        if number in self.alist:\n",
    "            self.alist[number] += 1\n",
    "        else:\n",
    "            self.alist[number] = 1\n",
    "        \n",
    "\n",
    "    def find(self, value):\n",
    "        \"\"\"\n",
    "        :type value: int\n",
    "        :rtype: bool\n",
    "        \"\"\"\n",
    "        #loop through all the keys in the hashmapp\n",
    "        #if value = 2, and alist = [1,1,4]\n",
    "        #frequency will ensure there are two 1s that'd sum upto 2\n",
    "        for num in self.alist.keys():\n",
    "            complement = value - num\n",
    "            if num != complement:\n",
    "                if complement in self.alist:\n",
    "                    return True\n",
    "            elif self.alist[num] > 1:\n",
    "                return True\n",
    "                \n"
   ]
  },
  {
   "cell_type": "code",
   "execution_count": null,
   "metadata": {},
   "outputs": [],
   "source": [
    "# Your TwoSum object will be instantiated and called as such:\n",
    "# obj = TwoSum()\n",
    "# obj.add(number)\n",
    "# param_2 = obj.find(value)"
   ]
  }
 ],
 "metadata": {
  "kernelspec": {
   "display_name": "Python 3",
   "language": "python",
   "name": "python3"
  },
  "language_info": {
   "codemirror_mode": {
    "name": "ipython",
    "version": 3
   },
   "file_extension": ".py",
   "mimetype": "text/x-python",
   "name": "python",
   "nbconvert_exporter": "python",
   "pygments_lexer": "ipython3",
   "version": "3.7.4"
  }
 },
 "nbformat": 4,
 "nbformat_minor": 2
}
