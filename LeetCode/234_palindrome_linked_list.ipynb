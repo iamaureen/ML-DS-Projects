{
 "cells": [
  {
   "cell_type": "code",
   "execution_count": null,
   "metadata": {},
   "outputs": [],
   "source": [
    "# Definition for singly-linked list.\n",
    "# class ListNode(object):\n",
    "#     def __init__(self, val=0, next=None):\n",
    "#         self.val = val\n",
    "#         self.next = next"
   ]
  },
  {
   "cell_type": "code",
   "execution_count": null,
   "metadata": {},
   "outputs": [],
   "source": [
    "class Solution(object):\n",
    "    def isPalindrome(self, head):\n",
    "        \"\"\"\n",
    "        :type head: ListNode\n",
    "        :rtype: bool\n",
    "        \"\"\"\n",
    "        #approach 1: convert the linkedlist into an array list and check the two arrays\n",
    "        vals = []\n",
    "        current = head\n",
    "        while current is not None:\n",
    "            vals.append(current.val)\n",
    "            current = current.next\n",
    "        \n",
    "        return vals == vals[::-1]\n",
    "    \n",
    "    #time & space complexity: o(n) - n number of nodes in the linked list"
   ]
  },
  {
   "cell_type": "code",
   "execution_count": null,
   "metadata": {},
   "outputs": [],
   "source": [
    "class Solution(object):\n",
    "    def isPalindrome(self, head):\n",
    "        \"\"\"\n",
    "        :type head: ListNode\n",
    "        :rtype: bool\n",
    "        \"\"\"\n",
    "        #approach 2: reverse the second half, compare the two halves and reverse the second half again to the original order\n",
    "        if head is None:\n",
    "            return True\n",
    "        \n",
    "        #find the end of the first half and reverse second half\n",
    "        first_half_end = self.end_of_first_half(head)\n",
    "        second_half_start = self.reverse_list(first_half_end.next)\n",
    "        \n",
    "        #check whether or not there's a palindrome\n",
    "        result = True\n",
    "        first_position = head\n",
    "        second_position = second_half_start\n",
    "        while result and second_position is not None:\n",
    "            if first_position.val != second_position.val:\n",
    "                result = False\n",
    "            first_position = first_position.next\n",
    "            second_position = second_position.next\n",
    "        \n",
    "        # Restore the list and return the result.\n",
    "        first_half_end.next = self.reverse_list(second_half_start)\n",
    "        return result \n",
    "    \n",
    "    #two pointers approach\n",
    "    def end_of_first_half(self, head):\n",
    "        fast = head\n",
    "        slow = head\n",
    "        while fast.next is not None and fast.next.next is not None:\n",
    "            fast = fast.next.next\n",
    "            slow = slow.next\n",
    "        \n",
    "        return slow #by the time fast reaches the end, slow will be in the middle\n",
    "    \n",
    "    def reverse_list(self, head):\n",
    "        previous = None\n",
    "        current = head\n",
    "        while current is not None:\n",
    "            next_node = current.next #save the next node\n",
    "            current.next = previous \n",
    "            previous = current\n",
    "            current = next_node\n",
    "        return previous"
   ]
  },
  {
   "cell_type": "markdown",
   "metadata": {},
   "source": [
    "Complexity Analysis\n",
    "\n",
    "Time complexity : O(n)O(n), where nn is the number of nodes in the Linked List.\n",
    "\n",
    "Similar to the above approaches. Finding the middle is O(n)O(n), reversing a list in place is O(n)O(n), and then comparing the 2 resulting Linked Lists is also O(n)O(n).\n",
    "\n",
    "Space complexity : O(1)O(1).\n",
    "\n",
    "We are changing the next pointers for half of the nodes. This was all memory that had already been allocated, so we are not using any extra memory and therefore it is O(1)O(1).\n",
    "\n",
    "I have seen some people on the discussion forum saying it has to be O(n)O(n) because we're creating a new list. This is incorrect, because we are changing each of the pointers one-by-one, in-place. We are not needing to allocate more than O(1)O(1) extra memory to do this work, and there is O(1)O(1) stack frames going on the stack. It is the same as reversing the values in an Array in place (using the two-pointer technique).\n",
    "\n",
    "The downside of this approach is that in a concurrent environment (multiple threads and processes accessing the same data), access to the Linked List by other threads or processes would have to be locked while this function is running, because the Linked List is temporarily broken. This is a limitation of many in-place algorithms though.\n",
    "\n",
    "source - https://leetcode.com/problems/palindrome-linked-list/solution/"
   ]
  },
  {
   "cell_type": "code",
   "execution_count": null,
   "metadata": {},
   "outputs": [],
   "source": []
  }
 ],
 "metadata": {
  "kernelspec": {
   "display_name": "Python 3",
   "language": "python",
   "name": "python3"
  },
  "language_info": {
   "codemirror_mode": {
    "name": "ipython",
    "version": 3
   },
   "file_extension": ".py",
   "mimetype": "text/x-python",
   "name": "python",
   "nbconvert_exporter": "python",
   "pygments_lexer": "ipython3",
   "version": "3.7.4"
  }
 },
 "nbformat": 4,
 "nbformat_minor": 2
}
