{
 "cells": [
  {
   "cell_type": "code",
   "execution_count": 1,
   "metadata": {},
   "outputs": [],
   "source": [
    "# Definition for a binary tree node.\n",
    "# class TreeNode:\n",
    "#     def __init__(self, val=0, left=None, right=None):\n",
    "#         self.val = val\n",
    "#         self.left = left\n",
    "#         self.right = right"
   ]
  },
  {
   "cell_type": "markdown",
   "metadata": {},
   "source": [
    "### Leetcode: 94 Binary Tree Inorder Traversal"
   ]
  },
  {
   "cell_type": "code",
   "execution_count": null,
   "metadata": {},
   "outputs": [],
   "source": [
    "def inorderTraversal(self, root: Optional[TreeNode]) -> List[int]:\n",
    "        tree_vals = []\n",
    "        \n",
    "        def inorder(tree):\n",
    "            \n",
    "            if tree:\n",
    "                inorder(tree.left)\n",
    "                tree_vals.append(tree.val)\n",
    "                inorder(tree.right)\n",
    "            \n",
    "            \n",
    "        inorder(root)\n",
    "        \n",
    "        return tree_vals"
   ]
  },
  {
   "cell_type": "markdown",
   "metadata": {},
   "source": [
    "### Leetcode: 100 Same Tree"
   ]
  },
  {
   "cell_type": "code",
   "execution_count": null,
   "metadata": {},
   "outputs": [],
   "source": [
    "def isSameTree(self, p: Optional[TreeNode], q: Optional[TreeNode]) -> bool:\n",
    "        if not p and not q: \n",
    "            return True\n",
    "        if not p or not q:\n",
    "            return False\n",
    "        if p.val != q.val:\n",
    "            return False\n",
    "        return self.isSameTree(p.left, q.left) and \\\n",
    "                self.isSameTree(p.right, q.right)"
   ]
  },
  {
   "cell_type": "markdown",
   "metadata": {},
   "source": [
    "### Leetcode: 101 Symmetric Tree"
   ]
  },
  {
   "cell_type": "code",
   "execution_count": null,
   "metadata": {},
   "outputs": [],
   "source": [
    "def isSymmetric(self, root: Optional[TreeNode]) -> bool:\n",
    "        return self.isMirror(root, root)\n",
    "    \n",
    "    def isMirror(self, t1, t2):\n",
    "        if not t1 and not t2: \n",
    "            return True\n",
    "        if not t1 or not t2: \n",
    "            return False\n",
    "        return t1.val == t2.val and self.isMirror(t1.right, t2.left) \\\n",
    "    and self.isMirror(t1.left, t2.right)"
   ]
  },
  {
   "cell_type": "markdown",
   "metadata": {},
   "source": [
    "### Leetcode 104 Maximum Depth of Binary Tree"
   ]
  },
  {
   "cell_type": "code",
   "execution_count": null,
   "metadata": {},
   "outputs": [],
   "source": [
    " def maxDepth(self, root: Optional[TreeNode]) -> int:\n",
    "        if root is None:\n",
    "            return 0\n",
    "        else:\n",
    "            left = self.maxDepth(root.left)\n",
    "            right = self.maxDepth(root.right)\n",
    "            return max(left,right)+1"
   ]
  },
  {
   "cell_type": "markdown",
   "metadata": {},
   "source": [
    "### Leetcode 111 Minimum Depth of Binary Tree"
   ]
  },
  {
   "cell_type": "code",
   "execution_count": null,
   "metadata": {},
   "outputs": [],
   "source": [
    "def minDepth(self, root: Optional[TreeNode]) -> int:\n",
    "        if root is None:\n",
    "            return 0;\n",
    "        \n",
    "        #4 cases:\n",
    "        \n",
    "        #leaf node\n",
    "        if(root.left is None and root.right is None):\n",
    "            return 1;\n",
    "        \n",
    "        #left == null\n",
    "        if(root.left is None):\n",
    "            return 1+self.minDepth(root.right);\n",
    "        \n",
    "        #right == null\n",
    "        if(root.right is None):\n",
    "            return 1+self.minDepth(root.left);\n",
    "        \n",
    "        #both are not null, find the min depth for left subtree and right subtree and add 1 to it.\n",
    "        return min(self.minDepth(root.left), self.minDepth(root.right))+1;"
   ]
  },
  {
   "cell_type": "code",
   "execution_count": null,
   "metadata": {},
   "outputs": [],
   "source": []
  }
 ],
 "metadata": {
  "kernelspec": {
   "display_name": "Python 3",
   "language": "python",
   "name": "python3"
  },
  "language_info": {
   "codemirror_mode": {
    "name": "ipython",
    "version": 3
   },
   "file_extension": ".py",
   "mimetype": "text/x-python",
   "name": "python",
   "nbconvert_exporter": "python",
   "pygments_lexer": "ipython3",
   "version": "3.7.4"
  }
 },
 "nbformat": 4,
 "nbformat_minor": 2
}
