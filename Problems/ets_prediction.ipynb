{
 "cells": [
  {
   "cell_type": "code",
   "execution_count": 50,
   "metadata": {},
   "outputs": [],
   "source": [
    "import numpy as np\n",
    "import pandas as pd"
   ]
  },
  {
   "cell_type": "code",
   "execution_count": 51,
   "metadata": {},
   "outputs": [
    {
     "data": {
      "text/html": [
       "<div>\n",
       "<style scoped>\n",
       "    .dataframe tbody tr th:only-of-type {\n",
       "        vertical-align: middle;\n",
       "    }\n",
       "\n",
       "    .dataframe tbody tr th {\n",
       "        vertical-align: top;\n",
       "    }\n",
       "\n",
       "    .dataframe thead th {\n",
       "        text-align: right;\n",
       "    }\n",
       "</style>\n",
       "<table border=\"1\" class=\"dataframe\">\n",
       "  <thead>\n",
       "    <tr style=\"text-align: right;\">\n",
       "      <th></th>\n",
       "      <th>ID</th>\n",
       "      <th>score</th>\n",
       "      <th>COLPREP</th>\n",
       "      <th>DIS_COH</th>\n",
       "      <th>LOGDTA</th>\n",
       "      <th>LOGDTU</th>\n",
       "      <th>NSQG</th>\n",
       "      <th>NSQM</th>\n",
       "      <th>NSQU</th>\n",
       "      <th>NWF_MEDIAN</th>\n",
       "      <th>SVF</th>\n",
       "      <th>WORDLN_2</th>\n",
       "    </tr>\n",
       "  </thead>\n",
       "  <tbody>\n",
       "    <tr>\n",
       "      <td>0</td>\n",
       "      <td>1</td>\n",
       "      <td>2</td>\n",
       "      <td>0.756913</td>\n",
       "      <td>-0.243887</td>\n",
       "      <td>3.598557</td>\n",
       "      <td>2.397895</td>\n",
       "      <td>-0.137833</td>\n",
       "      <td>-0.149626</td>\n",
       "      <td>-0.070535</td>\n",
       "      <td>-65.258011</td>\n",
       "      <td>3.069628</td>\n",
       "      <td>4.231343</td>\n",
       "    </tr>\n",
       "    <tr>\n",
       "      <td>1</td>\n",
       "      <td>2</td>\n",
       "      <td>1</td>\n",
       "      <td>0.785308</td>\n",
       "      <td>-0.432850</td>\n",
       "      <td>3.663562</td>\n",
       "      <td>1.098612</td>\n",
       "      <td>-0.172602</td>\n",
       "      <td>-0.130744</td>\n",
       "      <td>0.000000</td>\n",
       "      <td>-55.845630</td>\n",
       "      <td>2.909202</td>\n",
       "      <td>5.358974</td>\n",
       "    </tr>\n",
       "    <tr>\n",
       "      <td>2</td>\n",
       "      <td>3</td>\n",
       "      <td>1</td>\n",
       "      <td>0.352787</td>\n",
       "      <td>-1.112114</td>\n",
       "      <td>3.012262</td>\n",
       "      <td>1.098612</td>\n",
       "      <td>-0.259096</td>\n",
       "      <td>-0.181071</td>\n",
       "      <td>-0.128037</td>\n",
       "      <td>-64.124419</td>\n",
       "      <td>1.967153</td>\n",
       "      <td>4.721311</td>\n",
       "    </tr>\n",
       "    <tr>\n",
       "      <td>3</td>\n",
       "      <td>4</td>\n",
       "      <td>2</td>\n",
       "      <td>0.598193</td>\n",
       "      <td>-0.044348</td>\n",
       "      <td>2.990720</td>\n",
       "      <td>2.302585</td>\n",
       "      <td>-0.172970</td>\n",
       "      <td>-0.070888</td>\n",
       "      <td>-0.122782</td>\n",
       "      <td>-57.056961</td>\n",
       "      <td>3.369435</td>\n",
       "      <td>4.798995</td>\n",
       "    </tr>\n",
       "    <tr>\n",
       "      <td>4</td>\n",
       "      <td>5</td>\n",
       "      <td>1</td>\n",
       "      <td>0.651834</td>\n",
       "      <td>0.322877</td>\n",
       "      <td>3.810359</td>\n",
       "      <td>1.791759</td>\n",
       "      <td>-0.150726</td>\n",
       "      <td>-0.242983</td>\n",
       "      <td>-0.085907</td>\n",
       "      <td>-57.118968</td>\n",
       "      <td>3.930456</td>\n",
       "      <td>4.845018</td>\n",
       "    </tr>\n",
       "  </tbody>\n",
       "</table>\n",
       "</div>"
      ],
      "text/plain": [
       "   ID  score   COLPREP   DIS_COH    LOGDTA    LOGDTU      NSQG      NSQM  \\\n",
       "0   1      2  0.756913 -0.243887  3.598557  2.397895 -0.137833 -0.149626   \n",
       "1   2      1  0.785308 -0.432850  3.663562  1.098612 -0.172602 -0.130744   \n",
       "2   3      1  0.352787 -1.112114  3.012262  1.098612 -0.259096 -0.181071   \n",
       "3   4      2  0.598193 -0.044348  2.990720  2.302585 -0.172970 -0.070888   \n",
       "4   5      1  0.651834  0.322877  3.810359  1.791759 -0.150726 -0.242983   \n",
       "\n",
       "       NSQU  NWF_MEDIAN       SVF  WORDLN_2  \n",
       "0 -0.070535  -65.258011  3.069628  4.231343  \n",
       "1  0.000000  -55.845630  2.909202  5.358974  \n",
       "2 -0.128037  -64.124419  1.967153  4.721311  \n",
       "3 -0.122782  -57.056961  3.369435  4.798995  \n",
       "4 -0.085907  -57.118968  3.930456  4.845018  "
      ]
     },
     "execution_count": 51,
     "metadata": {},
     "output_type": "execute_result"
    }
   ],
   "source": [
    "#read the data file\n",
    "data = pd.read_csv('datafile.csv') \n",
    "\n",
    "#print the top 5 rows\n",
    "data.head()"
   ]
  },
  {
   "cell_type": "code",
   "execution_count": 52,
   "metadata": {},
   "outputs": [
    {
     "data": {
      "text/plain": [
       "0      2\n",
       "1      1\n",
       "2      1\n",
       "3      2\n",
       "4      1\n",
       "      ..\n",
       "704    1\n",
       "705    4\n",
       "706    1\n",
       "707    3\n",
       "708    2\n",
       "Name: score, Length: 709, dtype: int64"
      ]
     },
     "execution_count": 52,
     "metadata": {},
     "output_type": "execute_result"
    }
   ],
   "source": [
    "# outcome variable\n",
    "y = data['score']\n",
    "y"
   ]
  },
  {
   "cell_type": "code",
   "execution_count": 53,
   "metadata": {},
   "outputs": [
    {
     "data": {
      "text/plain": [
       "array([0, 1, 2, 3, 4])"
      ]
     },
     "execution_count": 53,
     "metadata": {},
     "output_type": "execute_result"
    }
   ],
   "source": [
    "# how many labels\n",
    "np.unique(y)"
   ]
  },
  {
   "cell_type": "code",
   "execution_count": 54,
   "metadata": {},
   "outputs": [
    {
     "data": {
      "text/html": [
       "<div>\n",
       "<style scoped>\n",
       "    .dataframe tbody tr th:only-of-type {\n",
       "        vertical-align: middle;\n",
       "    }\n",
       "\n",
       "    .dataframe tbody tr th {\n",
       "        vertical-align: top;\n",
       "    }\n",
       "\n",
       "    .dataframe thead th {\n",
       "        text-align: right;\n",
       "    }\n",
       "</style>\n",
       "<table border=\"1\" class=\"dataframe\">\n",
       "  <thead>\n",
       "    <tr style=\"text-align: right;\">\n",
       "      <th></th>\n",
       "      <th>COLPREP</th>\n",
       "      <th>DIS_COH</th>\n",
       "      <th>LOGDTA</th>\n",
       "      <th>LOGDTU</th>\n",
       "      <th>NSQG</th>\n",
       "      <th>NSQM</th>\n",
       "      <th>NSQU</th>\n",
       "      <th>NWF_MEDIAN</th>\n",
       "      <th>SVF</th>\n",
       "      <th>WORDLN_2</th>\n",
       "    </tr>\n",
       "  </thead>\n",
       "  <tbody>\n",
       "    <tr>\n",
       "      <td>0</td>\n",
       "      <td>0.756913</td>\n",
       "      <td>-0.243887</td>\n",
       "      <td>3.598557</td>\n",
       "      <td>2.397895</td>\n",
       "      <td>-0.137833</td>\n",
       "      <td>-0.149626</td>\n",
       "      <td>-0.070535</td>\n",
       "      <td>-65.258011</td>\n",
       "      <td>3.069628</td>\n",
       "      <td>4.231343</td>\n",
       "    </tr>\n",
       "    <tr>\n",
       "      <td>1</td>\n",
       "      <td>0.785308</td>\n",
       "      <td>-0.432850</td>\n",
       "      <td>3.663562</td>\n",
       "      <td>1.098612</td>\n",
       "      <td>-0.172602</td>\n",
       "      <td>-0.130744</td>\n",
       "      <td>0.000000</td>\n",
       "      <td>-55.845630</td>\n",
       "      <td>2.909202</td>\n",
       "      <td>5.358974</td>\n",
       "    </tr>\n",
       "    <tr>\n",
       "      <td>2</td>\n",
       "      <td>0.352787</td>\n",
       "      <td>-1.112114</td>\n",
       "      <td>3.012262</td>\n",
       "      <td>1.098612</td>\n",
       "      <td>-0.259096</td>\n",
       "      <td>-0.181071</td>\n",
       "      <td>-0.128037</td>\n",
       "      <td>-64.124419</td>\n",
       "      <td>1.967153</td>\n",
       "      <td>4.721311</td>\n",
       "    </tr>\n",
       "    <tr>\n",
       "      <td>3</td>\n",
       "      <td>0.598193</td>\n",
       "      <td>-0.044348</td>\n",
       "      <td>2.990720</td>\n",
       "      <td>2.302585</td>\n",
       "      <td>-0.172970</td>\n",
       "      <td>-0.070888</td>\n",
       "      <td>-0.122782</td>\n",
       "      <td>-57.056961</td>\n",
       "      <td>3.369435</td>\n",
       "      <td>4.798995</td>\n",
       "    </tr>\n",
       "    <tr>\n",
       "      <td>4</td>\n",
       "      <td>0.651834</td>\n",
       "      <td>0.322877</td>\n",
       "      <td>3.810359</td>\n",
       "      <td>1.791759</td>\n",
       "      <td>-0.150726</td>\n",
       "      <td>-0.242983</td>\n",
       "      <td>-0.085907</td>\n",
       "      <td>-57.118968</td>\n",
       "      <td>3.930456</td>\n",
       "      <td>4.845018</td>\n",
       "    </tr>\n",
       "  </tbody>\n",
       "</table>\n",
       "</div>"
      ],
      "text/plain": [
       "    COLPREP   DIS_COH    LOGDTA    LOGDTU      NSQG      NSQM      NSQU  \\\n",
       "0  0.756913 -0.243887  3.598557  2.397895 -0.137833 -0.149626 -0.070535   \n",
       "1  0.785308 -0.432850  3.663562  1.098612 -0.172602 -0.130744  0.000000   \n",
       "2  0.352787 -1.112114  3.012262  1.098612 -0.259096 -0.181071 -0.128037   \n",
       "3  0.598193 -0.044348  2.990720  2.302585 -0.172970 -0.070888 -0.122782   \n",
       "4  0.651834  0.322877  3.810359  1.791759 -0.150726 -0.242983 -0.085907   \n",
       "\n",
       "   NWF_MEDIAN       SVF  WORDLN_2  \n",
       "0  -65.258011  3.069628  4.231343  \n",
       "1  -55.845630  2.909202  5.358974  \n",
       "2  -64.124419  1.967153  4.721311  \n",
       "3  -57.056961  3.369435  4.798995  \n",
       "4  -57.118968  3.930456  4.845018  "
      ]
     },
     "execution_count": 54,
     "metadata": {},
     "output_type": "execute_result"
    }
   ],
   "source": [
    "#drop the score and the ids\n",
    "train = data.drop(['ID','score'], axis=1)\n",
    "train.head()"
   ]
  },
  {
   "cell_type": "code",
   "execution_count": 55,
   "metadata": {},
   "outputs": [],
   "source": [
    "from sklearn.model_selection import train_test_split\n",
    "\n",
    "#split into training and test data set\n",
    "X_train, X_test, y_train, y_test = train_test_split (train, y, test_size=0.20, random_state=42)"
   ]
  },
  {
   "cell_type": "code",
   "execution_count": 58,
   "metadata": {},
   "outputs": [
    {
     "name": "stdout",
     "output_type": "stream",
     "text": [
      "Accuracy: 0.3380281690140845\n",
      "F1-score:  0.2930419825156667\n"
     ]
    }
   ],
   "source": [
    "# Decision Tree - suppervised \n",
    "from sklearn.tree import DecisionTreeClassifier\n",
    "from sklearn.metrics import f1_score\n",
    "\n",
    "# Create Decision Tree classifer object\n",
    "clf = DecisionTreeClassifier()\n",
    "\n",
    "# Train Decision Tree Classifer\n",
    "clf = clf.fit(X_train,y_train)\n",
    "\n",
    "#Predict the response for test dataset\n",
    "y_pred = clf.predict(X_test)\n",
    "\n",
    "# Model Accuracy, how often is the classifier correct?\n",
    "print(\"Accuracy:\",metrics.accuracy_score(y_test, y_pred))\n",
    "\n",
    "#f1 score is harmonic mean of precision and recall while accuracy looks at correctly classified observations\n",
    "print(\"F1-score: \", f1_score(y_test, y_pred, average='macro'))\n",
    "\n",
    "\n"
   ]
  },
  {
   "cell_type": "code",
   "execution_count": 59,
   "metadata": {},
   "outputs": [
    {
     "name": "stdout",
     "output_type": "stream",
     "text": [
      "Accuracy: 0.4859154929577465\n",
      "F1-score:  0.4175536243205416\n"
     ]
    }
   ],
   "source": [
    "#Import Random Forest Model\n",
    "from sklearn.ensemble import RandomForestClassifier\n",
    "\n",
    "#Create a random forest classifier, n_estrimators = number of trees to be built\n",
    "clf=RandomForestClassifier(n_estimators=10)\n",
    "\n",
    "#Train the model \n",
    "clf.fit(X_train,y_train)\n",
    "\n",
    "y_pred=clf.predict(X_test)\n",
    "\n",
    "# Model Accuracy:\n",
    "print(\"Accuracy:\",metrics.accuracy_score(y_test, y_pred))\n",
    "\n",
    "#f1 score is harmonic mean of precision and recall while accuracy looks at correctly classified observations\n",
    "print(\"F1-score: \", f1_score(y_test, y_pred, average='macro'))"
   ]
  },
  {
   "cell_type": "code",
   "execution_count": 60,
   "metadata": {},
   "outputs": [
    {
     "name": "stdout",
     "output_type": "stream",
     "text": [
      "Accuracy: 0.3873239436619718\n",
      "F1-score:  0.3373917505095877\n"
     ]
    }
   ],
   "source": [
    "#Import Gaussian Naive Bayes model\n",
    "from sklearn.naive_bayes import GaussianNB\n",
    "\n",
    "#Create a Gaussian Classifier\n",
    "gnb = GaussianNB()\n",
    "\n",
    "#Train the model using the training sets\n",
    "gnb.fit(X_train, y_train)\n",
    "\n",
    "#Predict the response for test dataset\n",
    "y_pred = gnb.predict(X_test)\n",
    "\n",
    "# Model Accuracy:\n",
    "print(\"Accuracy:\",metrics.accuracy_score(y_test, y_pred))\n",
    "\n",
    "#f1 score is harmonic mean of precision and recall while accuracy looks at correctly classified observations\n",
    "print(\"F1-score: \", f1_score(y_test, y_pred, average='macro'))"
   ]
  },
  {
   "cell_type": "code",
   "execution_count": null,
   "metadata": {},
   "outputs": [],
   "source": []
  }
 ],
 "metadata": {
  "kernelspec": {
   "display_name": "Python 3",
   "language": "python",
   "name": "python3"
  },
  "language_info": {
   "codemirror_mode": {
    "name": "ipython",
    "version": 3
   },
   "file_extension": ".py",
   "mimetype": "text/x-python",
   "name": "python",
   "nbconvert_exporter": "python",
   "pygments_lexer": "ipython3",
   "version": "3.7.4"
  }
 },
 "nbformat": 4,
 "nbformat_minor": 2
}
