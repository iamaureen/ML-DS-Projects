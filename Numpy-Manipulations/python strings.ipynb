{
 "cells": [
  {
   "cell_type": "markdown",
   "metadata": {},
   "source": [
    "### Reverse words in a sentence"
   ]
  },
  {
   "cell_type": "code",
   "execution_count": 6,
   "metadata": {},
   "outputs": [
    {
     "name": "stdout",
     "output_type": "stream",
     "text": [
      "time vacation a is this\n"
     ]
    }
   ],
   "source": [
    "str = \"this is a vacation time\"\n",
    "\n",
    "def rev_sentence(text):\n",
    "    #split the string into words\n",
    "    words = text.split(' ')\n",
    "    \n",
    "    #reverse the split string list and join using space\n",
    "    rev_sentence = ' '.join(reversed(words)) #reversed() returns an iterator; .join takes an iterable and joins them into a string using ' ' as a separator\n",
    "    print(rev_sentence)\n",
    "    \n",
    "rev_sentence(str)"
   ]
  },
  {
   "cell_type": "markdown",
   "metadata": {},
   "source": [
    "### count the length of the string without using the built in functions"
   ]
  },
  {
   "cell_type": "code",
   "execution_count": 7,
   "metadata": {},
   "outputs": [
    {
     "data": {
      "text/plain": [
       "23"
      ]
     },
     "execution_count": 7,
     "metadata": {},
     "output_type": "execute_result"
    }
   ],
   "source": [
    "str = \"this is a vacation time\"\n",
    "\n",
    "count = 0\n",
    "\n",
    "for i in str:\n",
    "    count = count+1\n",
    "    \n",
    "count"
   ]
  },
  {
   "cell_type": "code",
   "execution_count": null,
   "metadata": {},
   "outputs": [],
   "source": []
  }
 ],
 "metadata": {
  "kernelspec": {
   "display_name": "Python 3",
   "language": "python",
   "name": "python3"
  },
  "language_info": {
   "codemirror_mode": {
    "name": "ipython",
    "version": 3
   },
   "file_extension": ".py",
   "mimetype": "text/x-python",
   "name": "python",
   "nbconvert_exporter": "python",
   "pygments_lexer": "ipython3",
   "version": "3.7.4"
  }
 },
 "nbformat": 4,
 "nbformat_minor": 2
}
