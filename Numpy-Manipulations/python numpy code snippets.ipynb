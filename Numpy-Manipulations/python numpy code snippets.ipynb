{
 "cells": [
  {
   "cell_type": "code",
   "execution_count": 1,
   "metadata": {},
   "outputs": [],
   "source": [
    "import numpy as np\n",
    "import pandas as pd"
   ]
  },
  {
   "cell_type": "code",
   "execution_count": 9,
   "metadata": {},
   "outputs": [
    {
     "data": {
      "text/plain": [
       "array([[1, 2, 3, 4],\n",
       "       [5, 6, 7, 8]])"
      ]
     },
     "execution_count": 9,
     "metadata": {},
     "output_type": "execute_result"
    }
   ],
   "source": [
    "# create a numpy 1-D array by using a python list\n",
    "\n",
    "python_list = [1,2,3,4]\n",
    "np_array = np.array(python_list)\n",
    "np_array\n",
    "\n",
    "# create a numpy 2-D array by using a python list of lists\n",
    "python_2dlist = [[1,2,3,4], [5,6,7,8]]\n",
    "np_2darray = np.array(python_2dlist)\n",
    "np_2darray"
   ]
  },
  {
   "cell_type": "code",
   "execution_count": 12,
   "metadata": {},
   "outputs": [
    {
     "data": {
      "text/plain": [
       "array([[0, 1],\n",
       "       [2, 3],\n",
       "       [4, 5],\n",
       "       [6, 7]])"
      ]
     },
     "execution_count": 12,
     "metadata": {},
     "output_type": "execute_result"
    }
   ],
   "source": [
    "# use arange() and reshape() function to create a multi-dimension array?\n",
    "\n",
    "#arange() used to create a 1D, 2D, 3D array. e.g., np.array(4) creates [1,2,3,4]\n",
    "#reshape() used to change the shape of a numpy array\n",
    "array = np.arange(8).reshape(4,2)\n",
    "array"
   ]
  },
  {
   "cell_type": "markdown",
   "metadata": {},
   "source": [
    "### Problem 1: Compute the min/max for each row for a NumPy 2D array"
   ]
  },
  {
   "cell_type": "code",
   "execution_count": 3,
   "metadata": {},
   "outputs": [
    {
     "name": "stdout",
     "output_type": "stream",
     "text": [
      "[0.2        0.11111111 0.11111111 0.2        0.55555556]\n"
     ]
    }
   ],
   "source": [
    "np.random.seed(10)\n",
    "\n",
    "a = np.random.randint(1, 10, [5, 3])  # return random integer from 1 to 10, the size of the array is 5x3\n",
    "\n",
    "# use apply_along_axis to use a specified function along with !D slices of the input array\n",
    "solution = np.apply_along_axis(lambda x: np.min(x) / np.max(x), arr=a, axis=1)  # since row so axis =1\n",
    "\n",
    "print(solution)"
   ]
  },
  {
   "cell_type": "markdown",
   "metadata": {},
   "source": [
    "### Problem 2: find all occurrences of an Element in a list"
   ]
  },
  {
   "cell_type": "code",
   "execution_count": 4,
   "metadata": {},
   "outputs": [
    {
     "name": "stdout",
     "output_type": "stream",
     "text": [
      "[6]\n",
      "[6]\n"
     ]
    }
   ],
   "source": [
    "my_list = [1, 2, 3, 1, 2, 4, 5, 6, 3, 2, 1]\n",
    "\n",
    "indices = [i for i, x in enumerate(my_list) if\n",
    "           x == 5]  # iterator enumerate(my_list) yields pairs (index, item) for each item in the list.\n",
    "print(indices)\n",
    "\n",
    "values = np.array(my_list)\n",
    "ii = np.where(values == 5)[0]\n",
    "print(ii)"
   ]
  },
  {
   "cell_type": "markdown",
   "metadata": {},
   "source": [
    " ### Problem 3: convert Pandas DataFrame into a Numpy array"
   ]
  },
  {
   "cell_type": "code",
   "execution_count": 5,
   "metadata": {},
   "outputs": [
    {
     "name": "stdout",
     "output_type": "stream",
     "text": [
      "[[1 4 7]\n",
      " [2 5 8]\n",
      " [3 6 9]]\n",
      "<bound method DataFrame.to_numpy of    A  C\n",
      "a  1  7\n",
      "b  2  8\n",
      "c  3  9>\n"
     ]
    }
   ],
   "source": [
    "df = pd.DataFrame(data={'A': [1, 2, 3],\n",
    "                        'B': [4, 5, 6],\n",
    "                        'C': [7, 8, 9]}, index=['a', 'b', 'c'])\n",
    "\n",
    "# convert the entire dataframe\n",
    "print(df.to_numpy())\n",
    "\n",
    "# convert specific clms\n",
    "print(df[['A', 'C']].to_numpy)"
   ]
  },
  {
   "cell_type": "markdown",
   "metadata": {},
   "source": [
    "### Problem 4: calculate matrix mean"
   ]
  },
  {
   "cell_type": "code",
   "execution_count": 6,
   "metadata": {},
   "outputs": [
    {
     "name": "stdout",
     "output_type": "stream",
     "text": [
      "[[1. 2. 3.]\n",
      " [3. 1. 1.]\n",
      " [5. 6. 5.]]\n"
     ]
    }
   ],
   "source": [
    "mylist = np.array(\n",
    "    [[1, 2, 0],\n",
    "     [0, 1, 1],\n",
    "     [5, 6, 5]])\n",
    "\n",
    "# print(mylist)\n",
    "\n",
    "# calculate mean for clm values; for rows axis=1\n",
    "clm_mean = mylist.mean(axis=0)\n",
    "# print(clm_mean)\n",
    "\n",
    "row_mean = mylist.mean(axis=1)\n",
    "# print(row_mean)\n",
    "\n",
    "# calculate mean of non-zero clm values\n",
    "# clm_mean1 = np.true_divide(mylist.sum(0),(mylist!=0).sum(0))\n",
    "# print(clm_mean1)\n",
    "\n",
    "# replaces 0 with 100;\n",
    "# mylist = np.where((mylist == 0),100,mylist)\n",
    "# print(mylist)\n",
    "\n",
    "#replaces 0 with mean;\n",
    "# mylist = np.where((mylist == 0),mylist.mean(axis=0),mylist)\n",
    "# # print(mylist)\n",
    "\n",
    "# replaces 0 with non-zero mean of the clm values;\n",
    "mylist = np.where((mylist == 0), np.true_divide(mylist.sum(0), (mylist != 0).sum(0)), mylist)\n",
    "print(mylist)"
   ]
  },
  {
   "cell_type": "markdown",
   "metadata": {},
   "source": [
    "### Problem 5: matrix normalization "
   ]
  },
  {
   "cell_type": "code",
   "execution_count": 7,
   "metadata": {},
   "outputs": [
    {
     "name": "stdout",
     "output_type": "stream",
     "text": [
      "[[-0.46291005 -0.46291005 -0.9258201 ]\n",
      " [-0.9258201  -0.9258201  -0.46291005]\n",
      " [ 1.38873015  1.38873015  1.38873015]]\n",
      "[0. 0. 0.]\n",
      "[1. 1. 1.]\n"
     ]
    }
   ],
   "source": [
    "mylist = np.array(\n",
    "    [[1, 2, 0],\n",
    "     [0, 1, 1],\n",
    "     [5, 6, 5]])\n",
    "\n",
    "\n",
    "# regular normalization\n",
    "# norm = np.linalg.norm(mylist)\n",
    "\n",
    "# #normalize the array\n",
    "# norm_mylist = mylist/norm\n",
    "# print(norm_mylist)\n",
    "\n",
    "# mean of each clm\n",
    "cmean = mylist.mean(axis=0)\n",
    "\n",
    "#stdev of each clm\n",
    "cstdev = np.std(mylist, axis=0)\n",
    "\n",
    "#normalized matrix -- formula shared in the problem\n",
    "result = (mylist-cmean)/cstdev\n",
    "print(result)\n",
    "\n",
    "#mean of each clm of the normalized matrix should be 0\n",
    "print(result.mean(axis=0))\n",
    "\n",
    "#std of each clm of the normalized matrix should be 1\n",
    "print(np.std(result, axis=0))"
   ]
  },
  {
   "cell_type": "code",
   "execution_count": null,
   "metadata": {},
   "outputs": [],
   "source": []
  }
 ],
 "metadata": {
  "kernelspec": {
   "display_name": "Python 3",
   "language": "python",
   "name": "python3"
  },
  "language_info": {
   "codemirror_mode": {
    "name": "ipython",
    "version": 3
   },
   "file_extension": ".py",
   "mimetype": "text/x-python",
   "name": "python",
   "nbconvert_exporter": "python",
   "pygments_lexer": "ipython3",
   "version": "3.7.4"
  }
 },
 "nbformat": 4,
 "nbformat_minor": 2
}
