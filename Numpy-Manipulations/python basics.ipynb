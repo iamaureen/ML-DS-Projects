{
 "cells": [
  {
   "cell_type": "code",
   "execution_count": 2,
   "metadata": {},
   "outputs": [
    {
     "data": {
      "text/plain": [
       "12"
      ]
     },
     "execution_count": 2,
     "metadata": {},
     "output_type": "execute_result"
    }
   ],
   "source": [
    "# find the min/max number from a list\n",
    "list = [12, 34, 35, 67]\n",
    "\n",
    "max(list)\n",
    "\n",
    "min(list)"
   ]
  },
  {
   "cell_type": "code",
   "execution_count": 3,
   "metadata": {},
   "outputs": [
    {
     "data": {
      "text/plain": [
       "[12, 36, 56, 50]"
      ]
     },
     "execution_count": 3,
     "metadata": {},
     "output_type": "execute_result"
    }
   ],
   "source": [
    "# remove duplicates from list \n",
    "\n",
    "list = [12, 36, 56, 36, 36, 50, 56, 12]\n",
    "\n",
    "unique_list = []\n",
    "\n",
    "for elem in list:\n",
    "    if elem not in unique_list:\n",
    "        unique_list.append(elem)\n",
    "        \n",
    "unique_list"
   ]
  },
  {
   "cell_type": "code",
   "execution_count": 4,
   "metadata": {},
   "outputs": [
    {
     "name": "stdout",
     "output_type": "stream",
     "text": [
      "sum ::  294 mult ::  1053455155200\n"
     ]
    }
   ],
   "source": [
    "# program to find sum of elements\n",
    "\n",
    "list = [12, 36, 56, 36, 36, 50, 56, 12]\n",
    "\n",
    "sum = 0\n",
    "mult = 1\n",
    "\n",
    "for elem in list:\n",
    "    sum += elem\n",
    "    mult *= elem\n",
    "    \n",
    "print(\"sum :: \", sum, \"mult :: \", mult)"
   ]
  },
  {
   "cell_type": "code",
   "execution_count": 14,
   "metadata": {},
   "outputs": [
    {
     "name": "stdout",
     "output_type": "stream",
     "text": [
      "{78, 15, 80, 89}\n"
     ]
    }
   ],
   "source": [
    "# get the difference between two lists\n",
    "\n",
    "list1 = [15, 78, 4]\n",
    "list2 = [80, 4, 89]\n",
    "\n",
    "result = []\n",
    "for elem in list1:\n",
    "    if elem not in list2:\n",
    "        result.append(elem)\n",
    "        \n",
    "result # wrong as it does not include 80 and 89 from the second list\n",
    "\n",
    "print(set(list1) ^ set(list2)) \n",
    "#symmetric operation; difference set(list1)-set(list2) may not always work if the second set\n",
    "#is not"
   ]
  },
  {
   "cell_type": "code",
   "execution_count": 15,
   "metadata": {},
   "outputs": [
    {
     "data": {
      "text/plain": [
       "[15, 'C#', 'Go', 'Python']"
      ]
     },
     "execution_count": 15,
     "metadata": {},
     "output_type": "execute_result"
    }
   ],
   "source": [
    "# first element from each nested list of a list\n",
    "list = [[15, 78, 4],['C#',80,7],['Go','Rust','C++'],['Python',12]]\n",
    "first_elem = [item[0] for item in list]\n",
    "\n",
    "first_elem"
   ]
  },
  {
   "cell_type": "code",
   "execution_count": 17,
   "metadata": {},
   "outputs": [
    {
     "data": {
      "text/plain": [
       "Counter({15: 3, 18: 2, 14: 1, 'C#': 2, 'C++': 2, 'Python': 1})"
      ]
     },
     "execution_count": 17,
     "metadata": {},
     "output_type": "execute_result"
    }
   ],
   "source": [
    "#count occurrence of repeated element in list\n",
    "from collections import Counter \n",
    "\n",
    "list = [15, 18, 14,'C#',18,15,'C#','C++','C++','Python',15]\n",
    "\n",
    "repeated_elem = Counter(list)\n",
    "repeated_elem"
   ]
  },
  {
   "cell_type": "code",
   "execution_count": 19,
   "metadata": {},
   "outputs": [
    {
     "data": {
      "text/plain": [
       "[12, 18, 14, 18, 6]"
      ]
     },
     "execution_count": 19,
     "metadata": {},
     "output_type": "execute_result"
    }
   ],
   "source": [
    "# Filter even values from a list using list comprehension\n",
    "\n",
    "list = [12, 18, 14,18,15,6]\n",
    "\n",
    "even_elem = [item for item in list if item%2==0]\n",
    "even_elem"
   ]
  },
  {
   "cell_type": "code",
   "execution_count": 21,
   "metadata": {},
   "outputs": [
    {
     "data": {
      "text/plain": [
       "[25, 18, 15, 14, 12, 6]"
      ]
     },
     "execution_count": 21,
     "metadata": {},
     "output_type": "execute_result"
    }
   ],
   "source": [
    "#  Sort a list of integers in descending order\n",
    "\n",
    "list = [12, 18, 14,25,15,6]\n",
    "\n",
    "list.sort(reverse=True) #in-place modify\n",
    "list"
   ]
  },
  {
   "cell_type": "code",
   "execution_count": 25,
   "metadata": {},
   "outputs": [
    {
     "data": {
      "text/plain": [
       "['Python', 'list', 'first', 'example']"
      ]
     },
     "execution_count": 25,
     "metadata": {},
     "output_type": "execute_result"
    }
   ],
   "source": [
    "# remove empty strings from the list of strings\n",
    "\n",
    "list = [\"Python\", \"\", \"list\", \"first\", \"\", \"example\"]\n",
    "\n",
    "without_empty = [item for item in list if item!=\"\"]\n",
    "without_empty"
   ]
  },
  {
   "cell_type": "code",
   "execution_count": 27,
   "metadata": {},
   "outputs": [
    {
     "data": {
      "text/plain": [
       "(78, 35, 45, 80, 100)"
      ]
     },
     "execution_count": 27,
     "metadata": {},
     "output_type": "execute_result"
    }
   ],
   "source": [
    "# sort two lists simultaneously \n",
    "list1 = [ 5,2, 1, 7,26]\n",
    "list2 = [45,35, 78, 80, 100]\n",
    "\n",
    "#zip, sort, unzip\n",
    "list1, list2 = zip(*sorted(zip(list1, list2)))\n",
    "list2\n"
   ]
  },
  {
   "cell_type": "code",
   "execution_count": 28,
   "metadata": {},
   "outputs": [
    {
     "data": {
      "text/plain": [
       "['this', 'is', 'Python', 'example']"
      ]
     },
     "execution_count": 28,
     "metadata": {},
     "output_type": "execute_result"
    }
   ],
   "source": [
    "#concatenate two list element wise/index-wise\n",
    "list1 = [\"th\", \"i\", \"Pyth\", \"exa\"]\n",
    "list2 = [\"is\", \"s\", \"on\", \"mple\"]\n",
    "\n",
    "[i+j for i,j in zip(list1,list2)]"
   ]
  },
  {
   "cell_type": "code",
   "execution_count": 34,
   "metadata": {},
   "outputs": [
    {
     "data": {
      "text/plain": [
       "['this is',\n",
       " 'this example',\n",
       " 'this of',\n",
       " 'Python is',\n",
       " 'Python example',\n",
       " 'Python of']"
      ]
     },
     "execution_count": 34,
     "metadata": {},
     "output_type": "execute_result"
    }
   ],
   "source": [
    "#concatenate every element across lists using list comprehension\n",
    "list1 = [\"this\",  \"Python\"]\n",
    "list2 = [\"is\", \"example\", \"of\"]\n",
    "\n",
    "[x+\" \"+y for x in list1 for y in list2]\n",
    "\n"
   ]
  },
  {
   "cell_type": "code",
   "execution_count": 35,
   "metadata": {},
   "outputs": [
    {
     "name": "stdout",
     "output_type": "stream",
     "text": [
      "output: 3\n"
     ]
    }
   ],
   "source": [
    "#what will be the output?\n",
    "dict = {(3,4,8):4,(5,6,9):3}\n",
    "print('output:',dict[5,6,9])\n"
   ]
  },
  {
   "cell_type": "code",
   "execution_count": 36,
   "metadata": {},
   "outputs": [
    {
     "data": {
      "text/plain": [
       "{'name': 'Dog', 'age': 5}"
      ]
     },
     "execution_count": 36,
     "metadata": {},
     "output_type": "execute_result"
    }
   ],
   "source": [
    "#Get keys[“name”, “age”] from dictionary and create new dictionary\n",
    "\n",
    "animaldict = {\n",
    "  \"name\": \"Dog\",\n",
    "  \"age\":5,\n",
    "  \"Weight\": 4,\n",
    "  \"Country\": \"US\",\n",
    "  \"City\":\"California\"\n",
    "   \n",
    "}\n",
    "\n",
    "\n",
    "{key:animaldict[key] for key in [\"name\", \"age\"]}"
   ]
  },
  {
   "cell_type": "code",
   "execution_count": 37,
   "metadata": {},
   "outputs": [
    {
     "data": {
      "text/plain": [
       "{'City': 'California', 'Weight': 4, 'Country': 'US'}"
      ]
     },
     "execution_count": 37,
     "metadata": {},
     "output_type": "execute_result"
    }
   ],
   "source": [
    "# delete set of keys from Dictionary\n",
    "\n",
    "{key:animaldict[key] for key in animaldict.keys() - [\"name\", \"age\"]}"
   ]
  },
  {
   "cell_type": "code",
   "execution_count": 39,
   "metadata": {},
   "outputs": [
    {
     "data": {
      "text/plain": [
       "{'age': 5,\n",
       " 'Weight': 4,\n",
       " 'Country': 'US',\n",
       " 'City': 'California',\n",
       " 'animalname': 'Dog'}"
      ]
     },
     "execution_count": 39,
     "metadata": {},
     "output_type": "execute_result"
    }
   ],
   "source": [
    "# change the name of key in dictionary.\n",
    "\n",
    "animaldict['animalname'] = animaldict.pop('name')\n",
    "\n",
    "animaldict"
   ]
  },
  {
   "cell_type": "code",
   "execution_count": 40,
   "metadata": {},
   "outputs": [
    {
     "name": "stdout",
     "output_type": "stream",
     "text": [
      "min value key =  Apple\n",
      "max value key = pomegranate\n"
     ]
    }
   ],
   "source": [
    "# get min and max keys corresponding to min and max value in Dictionary\n",
    "\n",
    "fruitsDict = {\n",
    "  'Apple': 100,\n",
    "  'Orange': 200,\n",
    "  'Banana': 400,\n",
    "  'pomegranate':600\n",
    "}\n",
    "\n",
    "print('min value key = ',min(fruitsDict, key=fruitsDict.get))\n",
    "print('max value key =',max(fruitsDict,key=fruitsDict.get))\n"
   ]
  },
  {
   "cell_type": "code",
   "execution_count": 42,
   "metadata": {},
   "outputs": [
    {
     "name": "stdout",
     "output_type": "stream",
     "text": [
      "{'Apple': 100, 'banana': 5, 'Math': 100, 'English': 98, 'name': 'Rabbit', 'age': 1}\n"
     ]
    }
   ],
   "source": [
    "#concatenate multiple dictionary into one\n",
    "\n",
    "Fruit = {'Apple': 100, 'banana': 5}\n",
    " \n",
    "Subject =  {'Math': 100, 'English': 98}\n",
    " \n",
    "animal =  {'name': 'Rabbit', 'age': 1}\n",
    " \n",
    "concate_Dict =  {}\n",
    " \n",
    "for dict in (Fruit, Subject, animal): concate_Dict.update(dict)\n",
    " \n",
    "print(concate_Dict)\n"
   ]
  },
  {
   "cell_type": "code",
   "execution_count": 44,
   "metadata": {},
   "outputs": [
    {
     "data": {
      "text/plain": [
       "'pplntrvwsscry'"
      ]
     },
     "execution_count": 44,
     "metadata": {},
     "output_type": "execute_result"
    }
   ],
   "source": [
    "# remove vowels with blank space from a string\n",
    "\n",
    "# non-efficient solution: loop through the string, and remove the vowels\n",
    "\n",
    "# efficient solution: use regex\n",
    "# re.sub(pattern, replacement, input_string)\n",
    "\n",
    "import re\n",
    "\n",
    "vowel_regex = r\"[aeiouAEIOU]\" #r means raw pattern string\n",
    "\n",
    "re.sub(vowel_regex,\"\",\"appleinterviewisscary\")"
   ]
  },
  {
   "cell_type": "code",
   "execution_count": 54,
   "metadata": {},
   "outputs": [
    {
     "name": "stdout",
     "output_type": "stream",
     "text": [
      "(212)-543-2212\n"
     ]
    }
   ],
   "source": [
    "def find_valid_phone(text):\n",
    "    phone_regex = r'(\\d{3}|\\(\\d{3}\\))-\\d{3}-\\d{4}'\n",
    "    phone = re.search(phone_regex, text) #search returns a match object\n",
    "\n",
    "    if phone!=None:\n",
    "        return phone.group()\n",
    "\n",
    "#print(find_valid_phone('Call me at 415-555-1011 tomorrow.'))\n",
    "print(find_valid_phone('My number is (212)-543-2212 tomorrow.'))"
   ]
  },
  {
   "cell_type": "code",
   "execution_count": 66,
   "metadata": {},
   "outputs": [
    {
     "data": {
      "image/png": "[encoded data removed]",
      "text/plain": [
       "<Figure size 432x288 with 1 Axes>"
      ]
     },
     "metadata": {
      "needs_background": "light"
     },
     "output_type": "display_data"
    }
   ],
   "source": [
    "# data visualization\n",
    "import numpy as np\n",
    "import matplotlib.pyplot as plt\n",
    "x = np.arange(0, 10, 0.1) #time\n",
    "y = np.sin(x) #amplitude\n",
    "plt.plot(x,y)\n",
    "plt.title('Sine Wave')\n",
    "plt.xlabel('time')\n",
    "plt.ylabel('amplitude')\n",
    "plt.show()"
   ]
  },
  {
   "cell_type": "code",
   "execution_count": null,
   "metadata": {},
   "outputs": [],
   "source": []
  }
 ],
 "metadata": {
  "kernelspec": {
   "display_name": "Python 3",
   "language": "python",
   "name": "python3"
  },
  "language_info": {
   "codemirror_mode": {
    "name": "ipython",
    "version": 3
   },
   "file_extension": ".py",
   "mimetype": "text/x-python",
   "name": "python",
   "nbconvert_exporter": "python",
   "pygments_lexer": "ipython3",
   "version": "3.7.4"
  }
 },
 "nbformat": 4,
 "nbformat_minor": 2
}
